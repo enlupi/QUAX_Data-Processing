{
 "cells": [
  {
   "cell_type": "markdown",
   "id": "89408598",
   "metadata": {},
   "source": [
    "# Spark configuration"
   ]
  },
  {
   "cell_type": "code",
   "execution_count": 1,
   "id": "09e90b3c",
   "metadata": {},
   "outputs": [],
   "source": [
    "from constants import *\n",
    "\n",
    "import json\n",
    "import numpy as np\n",
    "import struct as sstruct\n",
    "\n",
    "from pyspark.sql.functions import udf, col, explode, mean, stddev, count, to_json, struct\n",
    "from pyspark.sql.types import ArrayType, FloatType, IntegerType, StructType, StructField, StringType\n",
    "from pyspark.sql import SparkSession\n",
    "\n",
    "from kafka import KafkaProducer,KafkaConsumer"
   ]
  },
  {
   "cell_type": "markdown",
   "id": "3ed06ce0",
   "metadata": {},
   "source": [
    "## Spark Session"
   ]
  },
  {
   "cell_type": "code",
   "execution_count": 2,
   "id": "90e6907a",
   "metadata": {
    "scrolled": true
   },
   "outputs": [
    {
     "name": "stdout",
     "output_type": "stream",
     "text": [
      ":: loading settings :: url = jar:file:/usr/local/spark/jars/ivy-2.5.1.jar!/org/apache/ivy/core/settings/ivysettings.xml\n"
     ]
    },
    {
     "name": "stderr",
     "output_type": "stream",
     "text": [
      "Ivy Default Cache set to: /home/lupi/.ivy2/cache\n",
      "The jars for the packages stored in: /home/lupi/.ivy2/jars\n",
      "org.apache.spark#spark-sql-kafka-0-10_2.12 added as a dependency\n",
      ":: resolving dependencies :: org.apache.spark#spark-submit-parent-24f981f7-ebd8-4bc3-8ae4-488fc6b12e7a;1.0\n",
      "\tconfs: [default]\n",
      "\tfound org.apache.spark#spark-sql-kafka-0-10_2.12;3.3.2 in central\n",
      "\tfound org.apache.spark#spark-token-provider-kafka-0-10_2.12;3.3.2 in central\n",
      "\tfound org.apache.kafka#kafka-clients;2.8.1 in central\n",
      "\tfound org.lz4#lz4-java;1.8.0 in central\n",
      "\tfound org.xerial.snappy#snappy-java;1.1.8.4 in central\n",
      "\tfound org.slf4j#slf4j-api;1.7.32 in central\n",
      "\tfound org.apache.hadoop#hadoop-client-runtime;3.3.2 in central\n",
      "\tfound org.spark-project.spark#unused;1.0.0 in central\n",
      "\tfound org.apache.hadoop#hadoop-client-api;3.3.2 in central\n",
      "\tfound commons-logging#commons-logging;1.1.3 in central\n",
      "\tfound com.google.code.findbugs#jsr305;3.0.0 in central\n",
      "\tfound org.apache.commons#commons-pool2;2.11.1 in central\n",
      ":: resolution report :: resolve 712ms :: artifacts dl 28ms\n",
      "\t:: modules in use:\n",
      "\tcom.google.code.findbugs#jsr305;3.0.0 from central in [default]\n",
      "\tcommons-logging#commons-logging;1.1.3 from central in [default]\n",
      "\torg.apache.commons#commons-pool2;2.11.1 from central in [default]\n",
      "\torg.apache.hadoop#hadoop-client-api;3.3.2 from central in [default]\n",
      "\torg.apache.hadoop#hadoop-client-runtime;3.3.2 from central in [default]\n",
      "\torg.apache.kafka#kafka-clients;2.8.1 from central in [default]\n",
      "\torg.apache.spark#spark-sql-kafka-0-10_2.12;3.3.2 from central in [default]\n",
      "\torg.apache.spark#spark-token-provider-kafka-0-10_2.12;3.3.2 from central in [default]\n",
      "\torg.lz4#lz4-java;1.8.0 from central in [default]\n",
      "\torg.slf4j#slf4j-api;1.7.32 from central in [default]\n",
      "\torg.spark-project.spark#unused;1.0.0 from central in [default]\n",
      "\torg.xerial.snappy#snappy-java;1.1.8.4 from central in [default]\n",
      "\t---------------------------------------------------------------------\n",
      "\t|                  |            modules            ||   artifacts   |\n",
      "\t|       conf       | number| search|dwnlded|evicted|| number|dwnlded|\n",
      "\t---------------------------------------------------------------------\n",
      "\t|      default     |   12  |   0   |   0   |   0   ||   12  |   0   |\n",
      "\t---------------------------------------------------------------------\n",
      ":: retrieving :: org.apache.spark#spark-submit-parent-24f981f7-ebd8-4bc3-8ae4-488fc6b12e7a\n",
      "\tconfs: [default]\n",
      "\t0 artifacts copied, 12 already retrieved (0kB/14ms)\n"
     ]
    },
    {
     "name": "stdout",
     "output_type": "stream",
     "text": [
      "23/09/18 20:51:04 WARN NativeCodeLoader: Unable to load native-hadoop library for your platform... using builtin-java classes where applicable\n"
     ]
    },
    {
     "name": "stderr",
     "output_type": "stream",
     "text": [
      "Setting default log level to \"WARN\".\n",
      "To adjust logging level use sc.setLogLevel(newLevel). For SparkR, use setLogLevel(newLevel).\n"
     ]
    },
    {
     "data": {
      "text/html": [
       "\n",
       "        <div>\n",
       "            <p><b>SparkContext</b></p>\n",
       "\n",
       "            <p><a href=\"http://mapd-b-2023-gr14-1:4040\">Spark UI</a></p>\n",
       "\n",
       "            <dl>\n",
       "              <dt>Version</dt>\n",
       "                <dd><code>v3.3.2</code></dd>\n",
       "              <dt>Master</dt>\n",
       "                <dd><code>spark://10.67.22.8:7077</code></dd>\n",
       "              <dt>AppName</dt>\n",
       "                <dd><code>Spark structured streaming application</code></dd>\n",
       "            </dl>\n",
       "        </div>\n",
       "        "
      ],
      "text/plain": [
       "<SparkContext master=spark://10.67.22.8:7077 appName=Spark structured streaming application>"
      ]
     },
     "execution_count": 2,
     "metadata": {},
     "output_type": "execute_result"
    }
   ],
   "source": [
    "spark = SparkSession.builder \\\n",
    "    .master(\"spark://10.67.22.8:7077\")\\\n",
    "    .appName(\"Spark structured streaming application\")\\\n",
    "    .config(\"spark.executor.memory\", \"1000m\")\\\n",
    "    .config(\"spark.sql.execution.arrow.pyspark.enabled\", \"true\")\\\n",
    "    .config(\"spark.sql.adaptive.enabled\", \"false\")\\\n",
    "    .config(\"spark.sql.execution.arrow.pyspark.fallback.enabled\", \"false\")\\\n",
    "    .config(\"spark.sql.shuffle.partitions\", 12)\\\n",
    "    .config(\"spark.jars.packages\",\"org.apache.spark:spark-sql-kafka-0-10_2.12:3.3.2\")\\\n",
    "    .getOrCreate()\n",
    "\n",
    "sc = spark.sparkContext\n",
    "sc"
   ]
  },
  {
   "cell_type": "markdown",
   "id": "23905fd7",
   "metadata": {},
   "source": [
    "## Functions"
   ]
  },
  {
   "cell_type": "code",
   "execution_count": 3,
   "id": "5cb3e4b7",
   "metadata": {},
   "outputs": [],
   "source": [
    "# Function to convert a byte array into a list of float values\n",
    "def bytes_to_float32_list(bytes_value):\n",
    "    float_list = []\n",
    "    for i in range(0, len(bytes_value), 4): \n",
    "        float_value = sstruct.unpack('f', bytes_value[i:i+4])[0]\n",
    "        float_list.append(float_value)\n",
    "    \n",
    "    return float_list\n",
    "\n",
    "# Function to combine two arrays of length 3072 into complex numbers\n",
    "def to_complex(x):\n",
    "    l = 3072\n",
    "    r = x[:l]\n",
    "    i = x[l:]\n",
    "    c = r + 1j*i\n",
    "    return c\n",
    "\n",
    "# Function to compute the Fourier transform of a given array\n",
    "def Fourie(x):\n",
    "    x = np.array(x)\n",
    "    z = to_complex(x)\n",
    "    \n",
    "    power = np.abs(np.fft.fft(z))**2         # Compute the squared magnitude of the FFT\n",
    "    FS = fft_bandwidth\n",
    "    norm = n_bins * FS * np.sqrt(2)          # Normalization factor\n",
    "    normalized_power = power / norm          # Normalize the power spectrum\n",
    "    power_shifted = np.fft.fftshift(normalized_power) # Shift the power spectrum\n",
    "    \n",
    "    power_shifted = power_shifted.tolist()\n",
    "    \n",
    "    return(power_shifted)\n",
    "\n",
    "# Function to index elements in a list with file numbers\n",
    "def indexing(x,file_num):\n",
    "    k = []\n",
    "    for i in range(len(x)):\n",
    "        add = (f'{file_num}_{i}',x[i])\n",
    "        k.append(add)\n",
    "    return k\n",
    "\n",
    "# Function to extract the file number from a byte array (big-endian short)\n",
    "def extract_file_num(key_bytes):\n",
    "    return sstruct.unpack('>H', key_bytes[:2])[0]  # Unpack from big-endian short\n",
    "\n",
    "# Function to count elements in each batch and print batch size\n",
    "def batches_count(batch_df,batch_id):\n",
    "    batch_count = batch_df.count()\n",
    "    print(f\"Batch {batch_id}: Size = {batch_count}\")\n",
    "\n",
    "# Function to send data to Kafka as JSON messages\n",
    "def send_to_kafka(batch_df, batch_id):\n",
    "    batch_json = batch_df.toJSON().collect()\n",
    "    all_data_json = json.dumps([json.loads(row) for row in batch_json])\n",
    "    \n",
    "    producer = KafkaProducer(bootstrap_servers=KAFKA_BOOTSTRAP_SERVERS)\n",
    "    producer.send(\"results\", value=all_data_json.encode(\"utf-8\"))\n",
    "    producer.close() "
   ]
  },
  {
   "cell_type": "markdown",
   "id": "5aaa6f6e",
   "metadata": {},
   "source": [
    "## Query "
   ]
  },
  {
   "cell_type": "code",
   "execution_count": 4,
   "id": "3a779ce2",
   "metadata": {
    "scrolled": true
   },
   "outputs": [
    {
     "name": "stdout",
     "output_type": "stream",
     "text": [
      "23/09/18 20:51:11 WARN ResolveWriteToStream: Temporary checkpoint location created which is deleted normally when the query didn't fail: /tmp/temporary-9405aa74-26d3-4811-aca9-cb71da056187. If it's required to delete it under any circumstances, please set spark.sql.streaming.forceDeleteTempCheckpointLocation to true. Important to know deleting temp checkpoint folder is best effort.\n",
      "23/09/18 20:51:12 WARN NetworkClient: [Consumer clientId=consumer-spark-kafka-source-69a1a8ee-7420-4746-aaa3-ee5a8182ae64-300708440-driver-0-1, groupId=spark-kafka-source-69a1a8ee-7420-4746-aaa3-ee5a8182ae64-300708440-driver-0] Error while fetching metadata with correlation id 2 : {chunk_data=LEADER_NOT_AVAILABLE}\n",
      "23/09/18 20:51:12 WARN NetworkClient: [Consumer clientId=consumer-spark-kafka-source-69a1a8ee-7420-4746-aaa3-ee5a8182ae64-300708440-driver-0-1, groupId=spark-kafka-source-69a1a8ee-7420-4746-aaa3-ee5a8182ae64-300708440-driver-0] Error while fetching metadata with correlation id 4 : {chunk_data=LEADER_NOT_AVAILABLE}\n",
      "23/09/18 20:51:12 WARN NetworkClient: [Consumer clientId=consumer-spark-kafka-source-69a1a8ee-7420-4746-aaa3-ee5a8182ae64-300708440-driver-0-1, groupId=spark-kafka-source-69a1a8ee-7420-4746-aaa3-ee5a8182ae64-300708440-driver-0] Error while fetching metadata with correlation id 6 : {chunk_data=LEADER_NOT_AVAILABLE}\n",
      "23/09/18 20:51:12 WARN NetworkClient: [Consumer clientId=consumer-spark-kafka-source-69a1a8ee-7420-4746-aaa3-ee5a8182ae64-300708440-driver-0-1, groupId=spark-kafka-source-69a1a8ee-7420-4746-aaa3-ee5a8182ae64-300708440-driver-0] Error while fetching metadata with correlation id 8 : {chunk_data=LEADER_NOT_AVAILABLE}\n",
      "23/09/18 20:51:12 WARN NetworkClient: [Consumer clientId=consumer-spark-kafka-source-69a1a8ee-7420-4746-aaa3-ee5a8182ae64-300708440-driver-0-1, groupId=spark-kafka-source-69a1a8ee-7420-4746-aaa3-ee5a8182ae64-300708440-driver-0] Error while fetching metadata with correlation id 10 : {chunk_data=LEADER_NOT_AVAILABLE}\n",
      "23/09/18 20:51:12 WARN NetworkClient: [Consumer clientId=consumer-spark-kafka-source-69a1a8ee-7420-4746-aaa3-ee5a8182ae64-300708440-driver-0-1, groupId=spark-kafka-source-69a1a8ee-7420-4746-aaa3-ee5a8182ae64-300708440-driver-0] Error while fetching metadata with correlation id 12 : {chunk_data=LEADER_NOT_AVAILABLE}\n",
      "23/09/18 20:51:12 WARN NetworkClient: [Consumer clientId=consumer-spark-kafka-source-69a1a8ee-7420-4746-aaa3-ee5a8182ae64-300708440-driver-0-1, groupId=spark-kafka-source-69a1a8ee-7420-4746-aaa3-ee5a8182ae64-300708440-driver-0] Error while fetching metadata with correlation id 14 : {chunk_data=LEADER_NOT_AVAILABLE}\n",
      "23/09/18 20:51:12 WARN NetworkClient: [Consumer clientId=consumer-spark-kafka-source-69a1a8ee-7420-4746-aaa3-ee5a8182ae64-300708440-driver-0-1, groupId=spark-kafka-source-69a1a8ee-7420-4746-aaa3-ee5a8182ae64-300708440-driver-0] Error while fetching metadata with correlation id 16 : {chunk_data=LEADER_NOT_AVAILABLE}\n"
     ]
    },
    {
     "name": "stderr",
     "output_type": "stream",
     "text": [
      "                                                                                \r"
     ]
    },
    {
     "name": "stdout",
     "output_type": "stream",
     "text": [
      "23/09/18 20:51:23 WARN ProcessingTimeExecutor: Current batch is falling behind. The trigger interval is 12000 milliseconds, but spent 12471 milliseconds\n"
     ]
    },
    {
     "name": "stderr",
     "output_type": "stream",
     "text": [
      "ERROR:root:KeyboardInterrupt while sending command.                             \n",
      "Traceback (most recent call last):\n",
      "  File \"/usr/local/spark/python/lib/py4j-0.10.9.5-src.zip/py4j/java_gateway.py\", line 1038, in send_command\n",
      "    response = connection.send_command(command)\n",
      "  File \"/usr/local/spark/python/lib/py4j-0.10.9.5-src.zip/py4j/clientserver.py\", line 511, in send_command\n",
      "    answer = smart_decode(self.stream.readline()[:-1])\n",
      "  File \"/usr/lib/python3.10/socket.py\", line 705, in readinto\n",
      "    return self._sock.recv_into(b)\n",
      "KeyboardInterrupt\n"
     ]
    },
    {
     "ename": "KeyboardInterrupt",
     "evalue": "",
     "output_type": "error",
     "traceback": [
      "\u001b[0;31m---------------------------------------------------------------------------\u001b[0m",
      "\u001b[0;31mKeyboardInterrupt\u001b[0m                         Traceback (most recent call last)",
      "Cell \u001b[0;32mIn[4], line 74\u001b[0m\n\u001b[1;32m     67\u001b[0m \u001b[38;5;66;03m# Write the JSON data to Kafka as a single message, triggered every 12 seconds\u001b[39;00m\n\u001b[1;32m     68\u001b[0m query \u001b[38;5;241m=\u001b[39m result_json_df\u001b[38;5;241m.\u001b[39mwriteStream \\\n\u001b[1;32m     69\u001b[0m     \u001b[38;5;241m.\u001b[39mtrigger(processingTime\u001b[38;5;241m=\u001b[39m\u001b[38;5;124m\"\u001b[39m\u001b[38;5;124m12 seconds\u001b[39m\u001b[38;5;124m\"\u001b[39m)\\\n\u001b[1;32m     70\u001b[0m     \u001b[38;5;241m.\u001b[39moutputMode(\u001b[38;5;124m\"\u001b[39m\u001b[38;5;124mupdate\u001b[39m\u001b[38;5;124m\"\u001b[39m) \\\n\u001b[1;32m     71\u001b[0m     \u001b[38;5;241m.\u001b[39mforeachBatch(send_to_kafka) \\\n\u001b[1;32m     72\u001b[0m     \u001b[38;5;241m.\u001b[39mstart()\n\u001b[0;32m---> 74\u001b[0m \u001b[43mquery\u001b[49m\u001b[38;5;241;43m.\u001b[39;49m\u001b[43mawaitTermination\u001b[49m\u001b[43m(\u001b[49m\u001b[43m)\u001b[49m\n",
      "File \u001b[0;32m/usr/local/spark/python/pyspark/sql/streaming.py:107\u001b[0m, in \u001b[0;36mStreamingQuery.awaitTermination\u001b[0;34m(self, timeout)\u001b[0m\n\u001b[1;32m    105\u001b[0m     \u001b[38;5;28;01mreturn\u001b[39;00m \u001b[38;5;28mself\u001b[39m\u001b[38;5;241m.\u001b[39m_jsq\u001b[38;5;241m.\u001b[39mawaitTermination(\u001b[38;5;28mint\u001b[39m(timeout \u001b[38;5;241m*\u001b[39m \u001b[38;5;241m1000\u001b[39m))\n\u001b[1;32m    106\u001b[0m \u001b[38;5;28;01melse\u001b[39;00m:\n\u001b[0;32m--> 107\u001b[0m     \u001b[38;5;28;01mreturn\u001b[39;00m \u001b[38;5;28;43mself\u001b[39;49m\u001b[38;5;241;43m.\u001b[39;49m\u001b[43m_jsq\u001b[49m\u001b[38;5;241;43m.\u001b[39;49m\u001b[43mawaitTermination\u001b[49m\u001b[43m(\u001b[49m\u001b[43m)\u001b[49m\n",
      "File \u001b[0;32m/usr/local/spark/python/lib/py4j-0.10.9.5-src.zip/py4j/java_gateway.py:1320\u001b[0m, in \u001b[0;36mJavaMember.__call__\u001b[0;34m(self, *args)\u001b[0m\n\u001b[1;32m   1313\u001b[0m args_command, temp_args \u001b[38;5;241m=\u001b[39m \u001b[38;5;28mself\u001b[39m\u001b[38;5;241m.\u001b[39m_build_args(\u001b[38;5;241m*\u001b[39margs)\n\u001b[1;32m   1315\u001b[0m command \u001b[38;5;241m=\u001b[39m proto\u001b[38;5;241m.\u001b[39mCALL_COMMAND_NAME \u001b[38;5;241m+\u001b[39m\\\n\u001b[1;32m   1316\u001b[0m     \u001b[38;5;28mself\u001b[39m\u001b[38;5;241m.\u001b[39mcommand_header \u001b[38;5;241m+\u001b[39m\\\n\u001b[1;32m   1317\u001b[0m     args_command \u001b[38;5;241m+\u001b[39m\\\n\u001b[1;32m   1318\u001b[0m     proto\u001b[38;5;241m.\u001b[39mEND_COMMAND_PART\n\u001b[0;32m-> 1320\u001b[0m answer \u001b[38;5;241m=\u001b[39m \u001b[38;5;28;43mself\u001b[39;49m\u001b[38;5;241;43m.\u001b[39;49m\u001b[43mgateway_client\u001b[49m\u001b[38;5;241;43m.\u001b[39;49m\u001b[43msend_command\u001b[49m\u001b[43m(\u001b[49m\u001b[43mcommand\u001b[49m\u001b[43m)\u001b[49m\n\u001b[1;32m   1321\u001b[0m return_value \u001b[38;5;241m=\u001b[39m get_return_value(\n\u001b[1;32m   1322\u001b[0m     answer, \u001b[38;5;28mself\u001b[39m\u001b[38;5;241m.\u001b[39mgateway_client, \u001b[38;5;28mself\u001b[39m\u001b[38;5;241m.\u001b[39mtarget_id, \u001b[38;5;28mself\u001b[39m\u001b[38;5;241m.\u001b[39mname)\n\u001b[1;32m   1324\u001b[0m \u001b[38;5;28;01mfor\u001b[39;00m temp_arg \u001b[38;5;129;01min\u001b[39;00m temp_args:\n",
      "File \u001b[0;32m/usr/local/spark/python/lib/py4j-0.10.9.5-src.zip/py4j/java_gateway.py:1038\u001b[0m, in \u001b[0;36mGatewayClient.send_command\u001b[0;34m(self, command, retry, binary)\u001b[0m\n\u001b[1;32m   1036\u001b[0m connection \u001b[38;5;241m=\u001b[39m \u001b[38;5;28mself\u001b[39m\u001b[38;5;241m.\u001b[39m_get_connection()\n\u001b[1;32m   1037\u001b[0m \u001b[38;5;28;01mtry\u001b[39;00m:\n\u001b[0;32m-> 1038\u001b[0m     response \u001b[38;5;241m=\u001b[39m \u001b[43mconnection\u001b[49m\u001b[38;5;241;43m.\u001b[39;49m\u001b[43msend_command\u001b[49m\u001b[43m(\u001b[49m\u001b[43mcommand\u001b[49m\u001b[43m)\u001b[49m\n\u001b[1;32m   1039\u001b[0m     \u001b[38;5;28;01mif\u001b[39;00m binary:\n\u001b[1;32m   1040\u001b[0m         \u001b[38;5;28;01mreturn\u001b[39;00m response, \u001b[38;5;28mself\u001b[39m\u001b[38;5;241m.\u001b[39m_create_connection_guard(connection)\n",
      "File \u001b[0;32m/usr/local/spark/python/lib/py4j-0.10.9.5-src.zip/py4j/clientserver.py:511\u001b[0m, in \u001b[0;36mClientServerConnection.send_command\u001b[0;34m(self, command)\u001b[0m\n\u001b[1;32m    509\u001b[0m \u001b[38;5;28;01mtry\u001b[39;00m:\n\u001b[1;32m    510\u001b[0m     \u001b[38;5;28;01mwhile\u001b[39;00m \u001b[38;5;28;01mTrue\u001b[39;00m:\n\u001b[0;32m--> 511\u001b[0m         answer \u001b[38;5;241m=\u001b[39m smart_decode(\u001b[38;5;28;43mself\u001b[39;49m\u001b[38;5;241;43m.\u001b[39;49m\u001b[43mstream\u001b[49m\u001b[38;5;241;43m.\u001b[39;49m\u001b[43mreadline\u001b[49m\u001b[43m(\u001b[49m\u001b[43m)\u001b[49m[:\u001b[38;5;241m-\u001b[39m\u001b[38;5;241m1\u001b[39m])\n\u001b[1;32m    512\u001b[0m         logger\u001b[38;5;241m.\u001b[39mdebug(\u001b[38;5;124m\"\u001b[39m\u001b[38;5;124mAnswer received: \u001b[39m\u001b[38;5;132;01m{0}\u001b[39;00m\u001b[38;5;124m\"\u001b[39m\u001b[38;5;241m.\u001b[39mformat(answer))\n\u001b[1;32m    513\u001b[0m         \u001b[38;5;66;03m# Happens when a the other end is dead. There might be an empty\u001b[39;00m\n\u001b[1;32m    514\u001b[0m         \u001b[38;5;66;03m# answer before the socket raises an error.\u001b[39;00m\n",
      "File \u001b[0;32m/usr/lib/python3.10/socket.py:705\u001b[0m, in \u001b[0;36mSocketIO.readinto\u001b[0;34m(self, b)\u001b[0m\n\u001b[1;32m    703\u001b[0m \u001b[38;5;28;01mwhile\u001b[39;00m \u001b[38;5;28;01mTrue\u001b[39;00m:\n\u001b[1;32m    704\u001b[0m     \u001b[38;5;28;01mtry\u001b[39;00m:\n\u001b[0;32m--> 705\u001b[0m         \u001b[38;5;28;01mreturn\u001b[39;00m \u001b[38;5;28;43mself\u001b[39;49m\u001b[38;5;241;43m.\u001b[39;49m\u001b[43m_sock\u001b[49m\u001b[38;5;241;43m.\u001b[39;49m\u001b[43mrecv_into\u001b[49m\u001b[43m(\u001b[49m\u001b[43mb\u001b[49m\u001b[43m)\u001b[49m\n\u001b[1;32m    706\u001b[0m     \u001b[38;5;28;01mexcept\u001b[39;00m timeout:\n\u001b[1;32m    707\u001b[0m         \u001b[38;5;28mself\u001b[39m\u001b[38;5;241m.\u001b[39m_timeout_occurred \u001b[38;5;241m=\u001b[39m \u001b[38;5;28;01mTrue\u001b[39;00m\n",
      "\u001b[0;31mKeyboardInterrupt\u001b[0m: "
     ]
    }
   ],
   "source": [
    "# Read streaming data from Kafka into a DataFrame\n",
    "inputDF = spark\\\n",
    "    .readStream\\\n",
    "    .format(\"kafka\")\\\n",
    "    .option(\"kafka.bootstrap.servers\", KAFKA_BOOTSTRAP_SERVERS)\\\n",
    "    .option(\"kafkaConsumer.pollTimeoutMs\", 30_000)\\\n",
    "    .option(\"startingOffsets\", \"latest\") \\\n",
    "    .option(\"maxOffsetsPerTrigger\", 2000)\\\n",
    "    .option(\"subscribe\", \"chunk_data\")\\\n",
    "    .load()\n",
    "\n",
    "\n",
    "# Define user-defined functions (UDFs) and schema\n",
    "bytes_to_float32_udf = udf(bytes_to_float32_list, ArrayType(FloatType()))\n",
    "fft_udf = udf(Fourie, ArrayType(FloatType()))\n",
    "\n",
    "schema = StructType(\n",
    "        [\n",
    "                StructField(\"index\", StringType()),\n",
    "                StructField(\"x\", FloatType())\n",
    "        ]\n",
    ")\n",
    "\n",
    "# Define UDF to extract file number from 'key' column\n",
    "indexing_udf = udf(indexing, ArrayType(schema))\n",
    "extract_file_num_udf = udf(extract_file_num, IntegerType())\n",
    "\n",
    "\n",
    "# Apply UDFs to transform 'value' column in a list of Fourier transformed value\n",
    "streaming_df = inputDF.select('key', 'value')\n",
    "streaming_df = streaming_df.withColumn('float', bytes_to_float32_udf(streaming_df['value']))\n",
    "streaming_df = streaming_df.withColumn('fft', fft_udf(streaming_df['float']))\n",
    "\n",
    "# Extract file numbers from 'key' column\n",
    "streaming_df = streaming_df.withColumn('file_num', extract_file_num_udf(col('key')))\n",
    "\n",
    "# Apply UDF to index 'fft' column by 'file_num'\n",
    "streaming_df = streaming_df.withColumn('indexed_fft', indexing_udf(streaming_df['fft'],streaming_df['file_num']) )\n",
    "\n",
    "# Explode the 'indexed_fft' array to separate rows\n",
    "exploded_df = streaming_df.select('key', explode('indexed_fft').alias('indexed_fft'))\n",
    "\n",
    "# Group by 'indexed_fft.index' and calculate statistics\n",
    "result_df = exploded_df.groupBy(\"indexed_fft.index\").agg(\n",
    "    mean(\"indexed_fft.x\").alias(\"mean_x\"),\n",
    "    stddev(\"indexed_fft.x\").alias(\"stddev_x\"),\n",
    "    count(\"indexed_fft.x\").alias(\"count_x\")\n",
    ")\n",
    "\n",
    "\n",
    "# Code for debugging purpose    \n",
    "# result_json_df.writeStream \\\n",
    "#    .outputMode(\"update\") \\\n",
    "#    .format('console')\\\n",
    "#    .foreachBatch(batches_count)\\\n",
    "#    .start()\\\n",
    "#    .awaitTermination()\n",
    "\n",
    "# Select and structure the data for output as a single JSON message \n",
    "#when the mean is calculated from a full couple of file\n",
    "result_json_df = result_df.where(col('count_x')==2731)\\\n",
    "    .select(struct(\"index\", \"mean_x\", \"stddev_x\",\"count_x\").alias(\"data\"))\n",
    "\n",
    "\n",
    "\n",
    "\n",
    "# Write the JSON data to Kafka as a single message, triggered every 12 seconds\n",
    "query = result_json_df.writeStream \\\n",
    "    .trigger(processingTime=\"12 seconds\")\\\n",
    "    .outputMode(\"update\") \\\n",
    "    .foreachBatch(send_to_kafka) \\\n",
    "    .start()\n",
    "\n",
    "query.awaitTermination()"
   ]
  },
  {
   "cell_type": "code",
   "execution_count": 5,
   "id": "4894e5c2",
   "metadata": {},
   "outputs": [],
   "source": [
    "spark.stop()\n",
    "sc.stop()"
   ]
  }
 ],
 "metadata": {
  "kernelspec": {
   "display_name": "Python 3 (ipykernel)",
   "language": "python",
   "name": "python3"
  },
  "language_info": {
   "codemirror_mode": {
    "name": "ipython",
    "version": 3
   },
   "file_extension": ".py",
   "mimetype": "text/x-python",
   "name": "python",
   "nbconvert_exporter": "python",
   "pygments_lexer": "ipython3",
   "version": "3.9.12"
  }
 },
 "nbformat": 4,
 "nbformat_minor": 5
}
